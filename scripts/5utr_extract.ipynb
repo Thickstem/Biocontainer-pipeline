{
 "cells": [
  {
   "cell_type": "code",
   "execution_count": 1,
   "metadata": {},
   "outputs": [],
   "source": [
    "def getTranscriptBasicInformation(mrna_lncrna_fa):\n",
    "\ttransCategory,transLen,utr3Len,utr5Len,cdsLen,transORF = {},{},{},{},{},{}\n",
    "\ttrans_fh = open(mrna_lncrna_fa) \n",
    "\tfor line in trans_fh:\n",
    "\t\tif line[0]==\">\":\n",
    "\t\t\ta = line.rstrip().split()\n",
    "\t\t\ttID = a[0][1:]\n",
    "\t\t\ttCat = a[2].split(\"=\")[1]\n",
    "\t\t\ttransCategory[tID] = tCat\n",
    "\t\t\tif tCat == \"mRNA\":\n",
    "\t\t\t\tb = a[3].split(\"=\")[1].split(\"-\")\n",
    "\t\t\t\ttransORF[tID] = [int(b[0]), int(b[1])+3] \n",
    "\t\t\t\tcdsLen[tID] = int(b[1]) - int(b[0]) + 3\n",
    "\t\t\t\tutr5Len[tID] = int(b[0]) \n",
    "\t\telse:\n",
    "\t\t\tline = line.rstrip()\n",
    "\t\t\ttransLen[tID] = len(line) \n",
    "\t\t\tif tCat == \"mRNA\":\n",
    "\t\t\t\tutr3Len[tID] = transLen[tID] - transORF[tID][1] \n",
    "\ttrans_fh.close()\n",
    "\treturn transCategory,transLen,transORF,utr5Len,utr3Len,cdsLen"
   ]
  },
  {
   "cell_type": "code",
   "execution_count": 2,
   "metadata": {},
   "outputs": [],
   "source": [
    "file=\"/home/ksuga/biocontainer/STARidx/GRCh38.primary_assembly.genome.fa\""
   ]
  },
  {
   "cell_type": "code",
   "execution_count": 3,
   "metadata": {},
   "outputs": [
    {
     "ename": "IndexError",
     "evalue": "list index out of range",
     "output_type": "error",
     "traceback": [
      "\u001b[0;31m---------------------------------------------------------------------------\u001b[0m",
      "\u001b[0;31mIndexError\u001b[0m                                Traceback (most recent call last)",
      "Cell \u001b[0;32mIn[3], line 1\u001b[0m\n\u001b[0;32m----> 1\u001b[0m lens \u001b[39m=\u001b[39m getTranscriptBasicInformation(file)\n",
      "Cell \u001b[0;32mIn[1], line 8\u001b[0m, in \u001b[0;36mgetTranscriptBasicInformation\u001b[0;34m(mrna_lncrna_fa)\u001b[0m\n\u001b[1;32m      6\u001b[0m a \u001b[39m=\u001b[39m line\u001b[39m.\u001b[39mrstrip()\u001b[39m.\u001b[39msplit()\n\u001b[1;32m      7\u001b[0m tID \u001b[39m=\u001b[39m a[\u001b[39m0\u001b[39m][\u001b[39m1\u001b[39m:]\n\u001b[0;32m----> 8\u001b[0m tCat \u001b[39m=\u001b[39m a[\u001b[39m2\u001b[39;49m]\u001b[39m.\u001b[39msplit(\u001b[39m\"\u001b[39m\u001b[39m=\u001b[39m\u001b[39m\"\u001b[39m)[\u001b[39m1\u001b[39m]\n\u001b[1;32m      9\u001b[0m transCategory[tID] \u001b[39m=\u001b[39m tCat\n\u001b[1;32m     10\u001b[0m \u001b[39mif\u001b[39;00m tCat \u001b[39m==\u001b[39m \u001b[39m\"\u001b[39m\u001b[39mmRNA\u001b[39m\u001b[39m\"\u001b[39m:\n",
      "\u001b[0;31mIndexError\u001b[0m: list index out of range"
     ]
    }
   ],
   "source": [
    "trans_fh = open(file) \n",
    "for line in trans_fh:\n",
    "    if line[0]==\">\":\n",
    "        a = line.rstrip().split()\n",
    "print(a)"
   ]
  }
 ],
 "metadata": {
  "kernelspec": {
   "display_name": "Python 3",
   "language": "python",
   "name": "python3"
  },
  "language_info": {
   "codemirror_mode": {
    "name": "ipython",
    "version": 3
   },
   "file_extension": ".py",
   "mimetype": "text/x-python",
   "name": "python",
   "nbconvert_exporter": "python",
   "pygments_lexer": "ipython3",
   "version": "3.8.10"
  },
  "orig_nbformat": 4
 },
 "nbformat": 4,
 "nbformat_minor": 2
}
